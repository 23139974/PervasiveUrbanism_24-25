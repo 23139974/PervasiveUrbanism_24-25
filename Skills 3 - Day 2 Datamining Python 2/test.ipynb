{
 "cells": [
  {
   "cell_type": "code",
   "execution_count": 2,
   "metadata": {},
   "outputs": [
    {
     "name": "stdout",
     "output_type": "stream",
     "text": [
      "Error: 404\n"
     ]
    }
   ],
   "source": [
    "import requests\n",
    "\n",
    "API_KEY = 'US23ZO3DKESKGEAHYBKW'\n",
    "EVENTBRITE_URL = 'https://www.eventbriteapi.com/v3/events/search/'\n",
    "\n",
    "def get_events():\n",
    "    headers = {\n",
    "        'Authorization': f'Bearer {API_KEY}',\n",
    "    }\n",
    "    params = {\n",
    "        'q': 'technology',  # Search query\n",
    "        'location.address': 'San Francisco',  # Location\n",
    "    }\n",
    "    response = requests.get(EVENTBRITE_URL, headers=headers, params=params)\n",
    "    if response.status_code == 200:\n",
    "        events = response.json()\n",
    "        for event in events['events']:\n",
    "            print(f\"Event: {event['name']['text']}\")\n",
    "    else:\n",
    "        print(f\"Error: {response.status_code}\")\n",
    "\n",
    "\n",
    "get_events()"
   ]
  },
  {
   "cell_type": "code",
   "execution_count": null,
   "metadata": {},
   "outputs": [],
   "source": [
    "import requests\n",
    "\n",
    "ACCESS_TOKEN = '7ee1ab7a888d37c8b48bc3f03c6826cb'\n",
    "LOCATION_ID = 'YOUR_LOCATION_ID'  # Replace with the actual location ID\n",
    "INSTAGRAM_URL = f'https://graph.facebook.com/v12.0/{LOCATION_ID}/media'\n",
    "\n",
    "def get_media_by_location():\n",
    "    params = {\n",
    "        'fields': 'id,caption,media_type,media_url,thumbnail_url,permalink',\n",
    "        'access_token': ACCESS_TOKEN,\n",
    "    }\n",
    "    response = requests.get(INSTAGRAM_URL, params=params)\n",
    "    if response.status_code == 200:\n",
    "        media = response.json()\n",
    "        for item in media['data']:\n",
    "            print(f\"Media URL: {item['media_url']}\")\n",
    "    else:\n",
    "        print(f\"Error: {response.status_code}, {response.text}\")\n",
    "\n",
    "if __name__ == \"__main__\":\n",
    "    get_media_by_location()"
   ]
  },
  {
   "cell_type": "code",
   "execution_count": null,
   "metadata": {},
   "outputs": [],
   "source": []
  },
  {
   "cell_type": "code",
   "execution_count": 3,
   "metadata": {},
   "outputs": [
    {
     "name": "stdout",
     "output_type": "stream",
     "text": [
      "Error: 400, {\"error\":{\"message\":\"Invalid OAuth access token - Cannot parse access token\",\"type\":\"OAuthException\",\"code\":190,\"fbtrace_id\":\"A3VgqLMIQHg3lWnW-ow9Jfv\"}}\n"
     ]
    }
   ],
   "source": [
    "import requests\n",
    "\n",
    "ACCESS_TOKEN = '7ee1ab7a888d37c8b48bc3f03c6826cb'\n",
    "HASHTAG = 'hackney'  # Replace with the actual hashtag\n",
    "\n",
    "def get_hashtag_id(hashtag):\n",
    "    url = f'https://graph.facebook.com/v12.0/ig_hashtag_search'\n",
    "    params = {\n",
    "        'user_id': 'YOUR_USER_ID',  # Replace with your user ID\n",
    "        'q': hashtag,\n",
    "        'access_token': ACCESS_TOKEN,\n",
    "    }\n",
    "    response = requests.get(url, params=params)\n",
    "    if response.status_code == 200:\n",
    "        data = response.json()\n",
    "        return data['data'][0]['id']\n",
    "    else:\n",
    "        print(f\"Error: {response.status_code}, {response.text}\")\n",
    "        return None\n",
    "\n",
    "def get_media_by_hashtag(hashtag_id):\n",
    "    url = f'https://graph.facebook.com/v12.0/{hashtag_id}/recent_media'\n",
    "    params = {\n",
    "        'user_id': 'YOUR_USER_ID',  # Replace with your user ID\n",
    "        'fields': 'id,caption,media_type,media_url,thumbnail_url,permalink',\n",
    "        'access_token': ACCESS_TOKEN,\n",
    "    }\n",
    "    response = requests.get(url, params=params)\n",
    "    if response.status_code == 200:\n",
    "        media = response.json()\n",
    "        for item in media['data']:\n",
    "            print(f\"Media URL: {item['media_url']}\")\n",
    "    else:\n",
    "        print(f\"Error: {response.status_code}, {response.text}\")\n",
    "\n",
    "if __name__ == \"__main__\":\n",
    "    hashtag_id = get_hashtag_id(HASHTAG)\n",
    "    if hashtag_id:\n",
    "        get_media_by_hashtag(hashtag_id)"
   ]
  },
  {
   "cell_type": "code",
   "execution_count": 4,
   "metadata": {},
   "outputs": [],
   "source": [
    "from pytube import YouTube"
   ]
  },
  {
   "cell_type": "code",
   "execution_count": 5,
   "metadata": {},
   "outputs": [],
   "source": [
    "yt = YouTube('http://youtube.com/watch?v=2lAe1cqCOXo')"
   ]
  },
  {
   "cell_type": "code",
   "execution_count": 10,
   "metadata": {},
   "outputs": [],
   "source": [
    "yt.check_availability()\n",
    "\n"
   ]
  },
  {
   "cell_type": "code",
   "execution_count": 7,
   "metadata": {},
   "outputs": [
    {
     "data": {
      "text/plain": [
       "'https://img.youtube.com/vi/2lAe1cqCOXo/maxresdefault.jpg'"
      ]
     },
     "execution_count": 7,
     "metadata": {},
     "output_type": "execute_result"
    }
   ],
   "source": [
    "yt.thumbnail_url"
   ]
  },
  {
   "cell_type": "code",
   "execution_count": 11,
   "metadata": {},
   "outputs": [
    {
     "name": "stderr",
     "output_type": "stream",
     "text": [
      "Unexpected renderer encountered.\n",
      "Renderer name: dict_keys(['reelShelfRenderer'])\n",
      "Search term: Hackney\n",
      "Please open an issue at https://github.com/pytube/pytube/issues and provide this log output.\n",
      "Unexpected renderer encountered.\n",
      "Renderer name: dict_keys(['reelShelfRenderer'])\n",
      "Search term: Hackney\n",
      "Please open an issue at https://github.com/pytube/pytube/issues and provide this log output.\n"
     ]
    },
    {
     "data": {
      "text/plain": [
       "[<pytube.__main__.YouTube object: videoId=8StDF-mWNio>,\n",
       " <pytube.__main__.YouTube object: videoId=I69i1_yehdQ>,\n",
       " <pytube.__main__.YouTube object: videoId=-sa7UfE29ZA>,\n",
       " <pytube.__main__.YouTube object: videoId=kQkiBO5RkKw>,\n",
       " <pytube.__main__.YouTube object: videoId=5sz7HS78oAo>,\n",
       " <pytube.__main__.YouTube object: videoId=K51gPqbyGc4>,\n",
       " <pytube.__main__.YouTube object: videoId=BZ_Jvc2IpZw>,\n",
       " <pytube.__main__.YouTube object: videoId=B8_x_0S-hM0>,\n",
       " <pytube.__main__.YouTube object: videoId=I-oJSd09_oM>,\n",
       " <pytube.__main__.YouTube object: videoId=AULRwUNd7qk>,\n",
       " <pytube.__main__.YouTube object: videoId=J9IF6dhNXQg>,\n",
       " <pytube.__main__.YouTube object: videoId=9hbxsGFK4I4>,\n",
       " <pytube.__main__.YouTube object: videoId=7YuJvQpMLko>,\n",
       " <pytube.__main__.YouTube object: videoId=8XuaDf3lz1g>,\n",
       " <pytube.__main__.YouTube object: videoId=OSPKl8jCFdk>,\n",
       " <pytube.__main__.YouTube object: videoId=K59FSjB2PYg>,\n",
       " <pytube.__main__.YouTube object: videoId=ZPaB-3EctBM>,\n",
       " <pytube.__main__.YouTube object: videoId=NRW8iKL-i6g>,\n",
       " <pytube.__main__.YouTube object: videoId=vV4kdQoaRp8>,\n",
       " <pytube.__main__.YouTube object: videoId=m0QYmUOMrkQ>]"
      ]
     },
     "execution_count": 11,
     "metadata": {},
     "output_type": "execute_result"
    }
   ],
   "source": [
    "from pytube import Search\n",
    "s = Search('Hackney')\n",
    "s.results"
   ]
  },
  {
   "cell_type": "code",
   "execution_count": 12,
   "metadata": {},
   "outputs": [
    {
     "name": "stderr",
     "output_type": "stream",
     "text": [
      "Unexpected renderer encountered.\n",
      "Renderer name: dict_keys(['reelShelfRenderer'])\n",
      "Search term: Hackney\n",
      "Please open an issue at https://github.com/pytube/pytube/issues and provide this log output.\n",
      "Unexpected renderer encountered.\n",
      "Renderer name: dict_keys(['reelShelfRenderer'])\n",
      "Search term: Hackney\n",
      "Please open an issue at https://github.com/pytube/pytube/issues and provide this log output.\n"
     ]
    },
    {
     "data": {
      "text/plain": [
       "[<pytube.__main__.YouTube object: videoId=8StDF-mWNio>,\n",
       " <pytube.__main__.YouTube object: videoId=I69i1_yehdQ>,\n",
       " <pytube.__main__.YouTube object: videoId=-sa7UfE29ZA>,\n",
       " <pytube.__main__.YouTube object: videoId=kQkiBO5RkKw>,\n",
       " <pytube.__main__.YouTube object: videoId=5sz7HS78oAo>,\n",
       " <pytube.__main__.YouTube object: videoId=K51gPqbyGc4>,\n",
       " <pytube.__main__.YouTube object: videoId=BZ_Jvc2IpZw>,\n",
       " <pytube.__main__.YouTube object: videoId=B8_x_0S-hM0>,\n",
       " <pytube.__main__.YouTube object: videoId=I-oJSd09_oM>,\n",
       " <pytube.__main__.YouTube object: videoId=AULRwUNd7qk>,\n",
       " <pytube.__main__.YouTube object: videoId=J9IF6dhNXQg>,\n",
       " <pytube.__main__.YouTube object: videoId=9hbxsGFK4I4>,\n",
       " <pytube.__main__.YouTube object: videoId=7YuJvQpMLko>,\n",
       " <pytube.__main__.YouTube object: videoId=8XuaDf3lz1g>,\n",
       " <pytube.__main__.YouTube object: videoId=OSPKl8jCFdk>,\n",
       " <pytube.__main__.YouTube object: videoId=K59FSjB2PYg>,\n",
       " <pytube.__main__.YouTube object: videoId=ZPaB-3EctBM>,\n",
       " <pytube.__main__.YouTube object: videoId=NRW8iKL-i6g>,\n",
       " <pytube.__main__.YouTube object: videoId=vV4kdQoaRp8>,\n",
       " <pytube.__main__.YouTube object: videoId=m0QYmUOMrkQ>,\n",
       " <pytube.__main__.YouTube object: videoId=ZtSQtNXM14I>,\n",
       " <pytube.__main__.YouTube object: videoId=y0XW3R0N6Mg>,\n",
       " <pytube.__main__.YouTube object: videoId=OZsE0FkVUo8>,\n",
       " <pytube.__main__.YouTube object: videoId=0awD_g7OXPQ>,\n",
       " <pytube.__main__.YouTube object: videoId=uID6hdZ3DXs>,\n",
       " <pytube.__main__.YouTube object: videoId=QdMX5ajsoTo>,\n",
       " <pytube.__main__.YouTube object: videoId=b6Q1Fzf-DbA>,\n",
       " <pytube.__main__.YouTube object: videoId=AiEgr3Nlx3w>,\n",
       " <pytube.__main__.YouTube object: videoId=e0bvDL3wCUg>,\n",
       " <pytube.__main__.YouTube object: videoId=0TRtTxPlqH0>,\n",
       " <pytube.__main__.YouTube object: videoId=ZlMC1VSu3Mo>,\n",
       " <pytube.__main__.YouTube object: videoId=13dVepR5Gl0>,\n",
       " <pytube.__main__.YouTube object: videoId=dLq8ssXVqc4>,\n",
       " <pytube.__main__.YouTube object: videoId=Df-Wo48P-M8>,\n",
       " <pytube.__main__.YouTube object: videoId=pgXKqZ0QvbQ>,\n",
       " <pytube.__main__.YouTube object: videoId=R2rWGQFpkg8>,\n",
       " <pytube.__main__.YouTube object: videoId=v7wGHF-kHzU>,\n",
       " <pytube.__main__.YouTube object: videoId=KiX3pL-GDK8>,\n",
       " <pytube.__main__.YouTube object: videoId=xr-Jt4-aarE>,\n",
       " <pytube.__main__.YouTube object: videoId=AbR3HDHQhcs>]"
      ]
     },
     "execution_count": 12,
     "metadata": {},
     "output_type": "execute_result"
    }
   ],
   "source": [
    "s.get_next_results()\n",
    "s.results"
   ]
  }
 ],
 "metadata": {
  "kernelspec": {
   "display_name": "Python 3",
   "language": "python",
   "name": "python3"
  },
  "language_info": {
   "codemirror_mode": {
    "name": "ipython",
    "version": 3
   },
   "file_extension": ".py",
   "mimetype": "text/x-python",
   "name": "python",
   "nbconvert_exporter": "python",
   "pygments_lexer": "ipython3",
   "version": "3.12.4"
  }
 },
 "nbformat": 4,
 "nbformat_minor": 2
}
