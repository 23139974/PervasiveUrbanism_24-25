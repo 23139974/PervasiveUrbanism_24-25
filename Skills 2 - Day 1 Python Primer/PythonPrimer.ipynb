{
 "cells": [
  {
   "cell_type": "markdown",
   "metadata": {},
   "source": [
    "# Python Primer\n",
    "\n",
    "\n",
    "---\n",
    "\n",
    "## What is Python?\n",
    "Python is a high-level language developed by Guido van Rossum in the 1980s. \n",
    "It is a modern language that is easy to read, resulting in an easy learning curve.  That has contributed to Python's popularity. Many datascience libaries are written in Python and it's the \"bread-and-butter\" language fo ML applications. Many applications such as Blender or Rhino allow you to script in Python. \n",
    "\n",
    "## Installation\n",
    "There are a few different options for installing Python. First, choose the version; \n",
    "second, choose the programming environment. We'll use Python version **3.x** as opposed to 2.7.\n",
    "\n",
    "### Programming Environments\n",
    "This comes in many options: \n",
    "- We can use the IDE (Integrated Development Environment) that ships with Python. This is very basic, but the interface is not overwhelming (a good thing when you start)\n",
    "- You can run python from the browser in [google collab](https://colab.research.google.com/) - here you don't need to install anything. This ia a very beginner friendly, you just need an account and an internet connection. \n",
    "- I will be using [VS code](https://code.visualstudio.com/), mostly because I am used to it. There are other environments like PyCharm or conda , etc., and you are free to use them. Follow this [tutorial](https://code.visualstudio.com/docs/python/python-tutorial) if you want to use python with VS code. \n",
    "For simplicity, we will be using a format called *\"Jupyter Notebook\"* - that works well for teaching. \n",
    "\n",
    "### Installation on Windows\n",
    "1. Go to the Python webpage and download the latest version.\n",
    "2. During installation, ensure the installer adds a PATH variable by checking the box, then continue.\n",
    "\n",
    "### Installation on Mac\n",
    "The installation process is similar but does not ask for the PATH variable. Simply click through the menu.\n",
    "\n",
    "\n",
    "---\n",
    "\n",
    "## Basics\n",
    "\n",
    "### The Interactive Shell\n",
    "The first examples will be done in the *terminal*. Alternativly, you can run them in this notebook as well. \n",
    "Python runs in an interactive shell, where commands are typed and evaluated in real-time. \n",
    "This is different from compiled languages like Arduino (C) or Processing (Java).\n",
    "Python is an interpreted language that runs on the back of an interpreter.\n",
    "\n",
    "![Languages](images/Languages.png)\n",
    "\n",
    "Open the terminal by typing `cmd` into the windows seach bar. Once the terminal is up and running, type `python` to start the interactive enviroment.\n",
    "\n",
    "![CMD](images/CMD.png)\n",
    "\n",
    "### Variables and Data Types\n",
    "Variables and Data Types (Integer, Floating Point, Strings, simple array)\n",
    "Unlike Arduino (c language) or processing (java), Python does not need to know the type of the variable, a declaration like this is is correct:"
   ]
  },
  {
   "cell_type": "code",
   "execution_count": null,
   "metadata": {},
   "outputs": [],
   "source": [
    "#Integers\n",
    "a = 4\n",
    "print(a)"
   ]
  },
  {
   "cell_type": "markdown",
   "metadata": {},
   "source": [
    "The variable `a` can also contain a string, a float or an array. The last line counts. "
   ]
  },
  {
   "cell_type": "code",
   "execution_count": null,
   "metadata": {},
   "outputs": [],
   "source": [
    "a = 4\n",
    "#String\n",
    "a = \"Hello You\"\n",
    "# Float\n",
    "a = 4.5\n",
    "#Boolean\n",
    "a = True\n",
    "#List\n",
    "a=[5,6,4]\n",
    "a=[\"eggs\",\"milk\",4.5, 3, False]\n",
    "\n",
    "print(a)"
   ]
  },
  {
   "cell_type": "markdown",
   "metadata": {},
   "source": [
    "This behaviour of python is also characterized as **“weakly typed (loosely typed)”**. \n",
    "If you are not sure what a certain variable is, this helps you:"
   ]
  },
  {
   "cell_type": "code",
   "execution_count": null,
   "metadata": {},
   "outputs": [],
   "source": [
    "print(type(a))"
   ]
  },
  {
   "cell_type": "markdown",
   "metadata": {},
   "source": [
    "Sometimes, it’s necessary to transform one data type into another, like an integer to a float. This is called *casting* and works like that:"
   ]
  },
  {
   "cell_type": "code",
   "execution_count": null,
   "metadata": {},
   "outputs": [],
   "source": [
    "#Converting an integer to a float\n",
    "a = float(9)\n",
    "#Converting an flat to an integer\n",
    "b = int(4.68343)\n",
    "#Converting an integer to a string\n",
    "c = str(4)\n",
    "#Converting an integer to a boolean\n",
    "d = bool(0)\n",
    "\n",
    "print(a)\n",
    "print(b)\n",
    "print(c)\n",
    "print(d)"
   ]
  },
  {
   "cell_type": "markdown",
   "metadata": {},
   "source": [
    "Things like that don’t work - this gives an error message:"
   ]
  },
  {
   "cell_type": "code",
   "execution_count": null,
   "metadata": {},
   "outputs": [],
   "source": [
    "int(\"Anna\")"
   ]
  },
  {
   "cell_type": "markdown",
   "metadata": {},
   "source": [
    "Strings have some interesting behaviours:"
   ]
  },
  {
   "cell_type": "code",
   "execution_count": null,
   "metadata": {},
   "outputs": [],
   "source": [
    "\"Car\" + \"Bus\""
   ]
  },
  {
   "cell_type": "markdown",
   "metadata": {},
   "source": [
    "... this is called **string concatenation**"
   ]
  },
  {
   "cell_type": "code",
   "execution_count": null,
   "metadata": {},
   "outputs": [],
   "source": [
    "\"Bus \" * 3"
   ]
  },
  {
   "cell_type": "markdown",
   "metadata": {},
   "source": [
    "### Comments\n",
    "\n",
    "Commenting out means that the code will be ignored. A single line:"
   ]
  },
  {
   "cell_type": "code",
   "execution_count": null,
   "metadata": {},
   "outputs": [],
   "source": [
    "# This is a comment"
   ]
  },
  {
   "cell_type": "markdown",
   "metadata": {},
   "source": [
    "And over many lines:"
   ]
  },
  {
   "cell_type": "code",
   "execution_count": null,
   "metadata": {},
   "outputs": [],
   "source": [
    "\"\"\"\n",
    "This is a comment\n",
    "Over many lines\n",
    "\"\"\""
   ]
  },
  {
   "cell_type": "markdown",
   "metadata": {},
   "source": [
    "### Escape Characters\n",
    "\n",
    "Strings have a few special characters that allows us to some simple formatting, they are called escape characters:\n",
    "\n",
    " \n",
    "- `\\n` is a new line \n",
    "- `\\t` is a tab \n",
    "- `\\\\` is a backslash \n",
    "\n",
    "A code sample would look like:"
   ]
  },
  {
   "cell_type": "code",
   "execution_count": null,
   "metadata": {},
   "outputs": [],
   "source": [
    "a = \"This is the escape character \\n for a new line\"\n",
    "b =\" This is the escape character \\t for a tab\"\n",
    "c = \"This is a \\\\ backslash\"\n",
    "print (a)\n",
    "print (b)\n",
    "print (c)"
   ]
  },
  {
   "cell_type": "markdown",
   "metadata": {},
   "source": [
    "Now, the difficulty lies when you have to use the combination “\\n” or “\\t” for any reason and you don’t want to have the text formatted. The `r` in front of the script will treat the string as raw text:"
   ]
  },
  {
   "cell_type": "code",
   "execution_count": null,
   "metadata": {},
   "outputs": [],
   "source": [
    "w = \"C:\\Users\\vince\\Dropbox\\new\\test\"\n",
    "print(w)"
   ]
  },
  {
   "cell_type": "code",
   "execution_count": null,
   "metadata": {},
   "outputs": [],
   "source": [
    "w = r\"C:\\Users\\vince\\Dropbox\\new\\test\"\n",
    "print (w)"
   ]
  },
  {
   "cell_type": "markdown",
   "metadata": {},
   "source": [
    "Please consider this when you work with paths and filenames.\n",
    "As an alternative you can define a file path like that as well:\n",
    "\n",
    "``` w = \"C:\\\\Users\\\\vince\\\\Dropbox\\\\new\\\\test\"```\n"
   ]
  },
  {
   "cell_type": "markdown",
   "metadata": {},
   "source": [
    "### First Program\n",
    "\n",
    "Now, let’s put all the above into action:"
   ]
  },
  {
   "cell_type": "code",
   "execution_count": null,
   "metadata": {},
   "outputs": [],
   "source": [
    "print(\"Hello\")\n",
    "name = input(\"What is your name?\")\n",
    "print(\"Nice to meet you \" + name)\n",
    "print (\"Have a nice day\")"
   ]
  },
  {
   "cell_type": "markdown",
   "metadata": {},
   "source": [
    "**Running scripts in the command line**\n",
    "\n",
    "You can run scripts directly in the command line of windows. To do so, navigate to the folder where the script is and type “cmd” into the address bar. The command line interface appears and the working directory is set automatically to the location of the explorer window. Not type the name of your script and see how it runs in the command line.\n",
    "\n",
    "![Polite1](images/polite1.png)\n",
    "\n",
    "![Polite2](images/polite2.png)\n",
    "\n"
   ]
  },
  {
   "cell_type": "markdown",
   "metadata": {},
   "source": [
    "## Flow Control\n",
    "\n",
    "The logic of python’s flow control is similar to the one of arduino, also python knows booleans, if statements and so forth. \n",
    "\n",
    "### Boolean Values and Operators\n",
    "True and False are the boolean values that control the flow of a programm. They can be typed in or they are the result of a certain expression:\n",
    "\n",
    "``` python \n",
    ">>> 3>1\n",
    "True\n",
    ">>> 3+3==6\n",
    "True\n",
    ">>> \"Anna\" == \"Anna\"\n",
    "True\n",
    ">>> \"Anna\" == 4\n",
    "False\n",
    ">>> e=3\n",
    ">>> r=5\n",
    ">>> e==r\n",
    "False\n",
    "```\n",
    "\n",
    "Or you can simply do:\n",
    "\n",
    "``` python\n",
    ">>> x=True\n",
    "```\n",
    "These can be combined with AND or OR expression following these rules:\n",
    "\n",
    "``` python \n",
    ">>> True\n",
    "True\n",
    ">>> False\n",
    "False\n",
    ">>> True and True\n",
    "True\n",
    ">>> True and False\n",
    "False\n",
    ">>> False and False\n",
    "False\n",
    ">>> True or True\n",
    "True\n",
    ">>> True or False\n",
    "True\n",
    ">>> False or False\n",
    "False\n",
    "```\n",
    "\n",
    "### *If* statements\n",
    "\n",
    "``` python\n",
    ">>> if 6>3:\n",
    "\tprint(\"yes this is correct\")\t\n",
    "\t\n",
    "yes this is correct\n",
    "```\n",
    "\n",
    "Note the special way python deals with a code block, unlike c based languages, there is an indentation and a colon. A same code in processing would be:\n",
    "\n",
    "\n",
    "``` c\n",
    "if (3>1){\n",
    "  println(\"Yes, correct\");  \n",
    "}\n",
    "```\n",
    "\n",
    "Note that the indentation and the whitespace play a very important role in python.\n",
    "\n",
    "### *Else* statements"
   ]
  },
  {
   "cell_type": "code",
   "execution_count": null,
   "metadata": {},
   "outputs": [],
   "source": [
    "if 6>9:\n",
    "    print(\"yes, this is correct\")\n",
    "else:\n",
    "    print(\"Nope\")"
   ]
  },
  {
   "cell_type": "markdown",
   "metadata": {},
   "source": [
    "### *Elif* statements"
   ]
  },
  {
   "cell_type": "code",
   "execution_count": null,
   "metadata": {},
   "outputs": [],
   "source": [
    "if False:\n",
    "    print(\"First test is true\")\n",
    "elif False:\n",
    "    print(\"Second test is true\")\n",
    "elif False:\n",
    "    print(\"Third test is true\")\n",
    "else:\n",
    "    print(\"All test conditions are False\")"
   ]
  },
  {
   "cell_type": "markdown",
   "metadata": {},
   "source": [
    "### For loops and the range function\n",
    "The range function evaluates to a series of numbers. This expression is evaluated in certain circumstances. This means that if you simply type\n",
    "\n",
    "``` python\n",
    ">>> range(10,20)\n",
    "```\n",
    "The result is \n",
    "\n",
    "```python\n",
    "range(10, 20)\n",
    "```\n",
    "This function is typically used in a **for loop**: \n",
    "\n"
   ]
  },
  {
   "cell_type": "code",
   "execution_count": null,
   "metadata": {},
   "outputs": [],
   "source": [
    "for i in range (10,20):\n",
    "    print(i)\n"
   ]
  },
  {
   "cell_type": "markdown",
   "metadata": {},
   "source": [
    "Explore different options of the range function:"
   ]
  },
  {
   "cell_type": "code",
   "execution_count": null,
   "metadata": {},
   "outputs": [],
   "source": [
    "for i in range (20):\n",
    "    print(i)\n",
    "for i in range (2,20,4):\n",
    "    print(i)\n",
    "for i in range (20,2,-1):\n",
    "    print(i)\n"
   ]
  },
  {
   "cell_type": "markdown",
   "metadata": {},
   "source": [
    "For Loops are also allowed to run in lists directly like:"
   ]
  },
  {
   "cell_type": "code",
   "execution_count": null,
   "metadata": {},
   "outputs": [],
   "source": [
    "for i in [3,5,80,\"Car\",[4,5,6]]:\n",
    "    print(i)"
   ]
  },
  {
   "cell_type": "markdown",
   "metadata": {},
   "source": [
    "Considering that “i” can be replaced by any other expression, one can write:"
   ]
  },
  {
   "cell_type": "code",
   "execution_count": null,
   "metadata": {},
   "outputs": [],
   "source": [
    "brands = [\"Coca Cola\", \"Fanta\", \"7Up\", \"Sprite\"]\n",
    "\n",
    "for brand in brands:\n",
    "    print (brand)\n"
   ]
  },
  {
   "cell_type": "markdown",
   "metadata": {},
   "source": [
    "### *While* loops\n",
    "\n",
    "While loops are usually used to create an loop that is only exited when a *certain condition* is met:"
   ]
  },
  {
   "cell_type": "code",
   "execution_count": null,
   "metadata": {},
   "outputs": [],
   "source": [
    "print('Please type your name.')\n",
    "name = input()\n",
    "while name != 'peter':\n",
    "    print('Please type your name.')\n",
    "    name = input()\n",
    "print('Thank you!')"
   ]
  },
  {
   "cell_type": "markdown",
   "metadata": {},
   "source": [
    "The above is the most common usage of a while loop. But it can also be used as a replacement for a for loop in some cases:"
   ]
  },
  {
   "cell_type": "code",
   "execution_count": 20,
   "metadata": {},
   "outputs": [
    {
     "name": "stdout",
     "output_type": "stream",
     "text": [
      "Hello, world.\n",
      "Hello, world.\n",
      "Hello, world.\n",
      "Hello, world.\n",
      "Hello, world.\n"
     ]
    }
   ],
   "source": [
    "index = 0\n",
    "while index < 5:\n",
    "    print('Hello, world.')\n",
    "    index = index + 1"
   ]
  },
  {
   "cell_type": "markdown",
   "metadata": {},
   "source": [
    "## Functions & Datastructures\n",
    "\n",
    "Functions allow you structure your code into modules. Parts that are often used can be taken out of the main code and declared as a separate piece of code at the beginning of the script. "
   ]
  },
  {
   "cell_type": "code",
   "execution_count": 27,
   "metadata": {},
   "outputs": [
    {
     "name": "stdout",
     "output_type": "stream",
     "text": [
      "0 1 2 4 8 16 32 64 128 256 512 1024 2048 4096 "
     ]
    }
   ],
   "source": [
    "def fib(n):    # write Fibonacci series up to n\n",
    "    \"\"\"Print a Fibonacci series up to n.\"\"\"\n",
    "    a = 0\n",
    "    b= 1\n",
    "    while a < n:\n",
    "        print(a, end=' ')\n",
    "        a = b\n",
    "        b = a+b\n",
    "\n",
    "fib(5000)"
   ]
  },
  {
   "cell_type": "markdown",
   "metadata": {},
   "source": [
    "Functions are located at the beginning of the script. The value in between the parentheses is called argument and when you pass a value is it’s called parameter. \n",
    "The above function simply prints values into the command line, alternatively, we could also include a return statement that returns a value. In this case we return a value that can be used elsewhere in the script: \n"
   ]
  },
  {
   "cell_type": "code",
   "execution_count": 28,
   "metadata": {},
   "outputs": [
    {
     "name": "stdout",
     "output_type": "stream",
     "text": [
      "[0, 1, 2, 4, 8, 16, 32, 64, 128, 256, 512, 1024, 2048, 4096]\n"
     ]
    }
   ],
   "source": [
    "def fib(n):    # write Fibonacci series up to n\n",
    "    \"\"\"Print a Fibonacci series up to n.\"\"\"\n",
    "    list = []\n",
    "    a = 0\n",
    "    b= 1\n",
    "    while a < n:\n",
    "        list.append(a)\n",
    "        a = b\n",
    "        b = a+b\n",
    "    return list\n",
    "\n",
    "a = fib(5000)\n",
    "print(a)"
   ]
  },
  {
   "cell_type": "markdown",
   "metadata": {},
   "source": [
    "### Keywords Arguments in print()\n",
    "\n",
    "We have been using the print() function in previous scripts. The regular print function looks like "
   ]
  },
  {
   "cell_type": "code",
   "execution_count": 31,
   "metadata": {},
   "outputs": [
    {
     "name": "stdout",
     "output_type": "stream",
     "text": [
      "This is\n",
      "the way\n"
     ]
    }
   ],
   "source": [
    "print (\"This is\")\n",
    "print (\"the way\")"
   ]
  },
  {
   "cell_type": "markdown",
   "metadata": {},
   "source": [
    "But Python allows you to use Keywords in certain cases. Keywords are extra option that come in a format like `[name] = [value]`. \n",
    "\n",
    "The keyword argument `end` can be used to avoid the newline after the output.\n",
    "\n",
    "The keyword `sep` specify how to separate the objects.\n"
   ]
  },
  {
   "cell_type": "code",
   "execution_count": null,
   "metadata": {},
   "outputs": [
    {
     "name": "stdout",
     "output_type": "stream",
     "text": [
      "this *is *the *way \n"
     ]
    }
   ],
   "source": [
    "print (\"This is\", end = ' ')\n",
    "print (\"the way\")\n",
    "\n",
    "print (\"this \", \"is \", \"the \", \"way \", sep = '*')"
   ]
  },
  {
   "cell_type": "markdown",
   "metadata": {},
   "source": [
    "### Lists\n",
    "\n",
    "Lists in python hold an array of values. As we have seen, lists can contain different values and the length can be dynamically adjusted. This makes lists flexible and easy to work with. "
   ]
  },
  {
   "cell_type": "code",
   "execution_count": 1,
   "metadata": {},
   "outputs": [
    {
     "data": {
      "text/plain": [
       "'Car'"
      ]
     },
     "execution_count": 1,
     "metadata": {},
     "output_type": "execute_result"
    }
   ],
   "source": [
    "myList = [ \"Car\", \"Bus\", \"Ship\"]\n",
    "\n",
    "myList[0]"
   ]
  },
  {
   "cell_type": "markdown",
   "metadata": {},
   "source": [
    "or"
   ]
  },
  {
   "cell_type": "code",
   "execution_count": 2,
   "metadata": {},
   "outputs": [
    {
     "data": {
      "text/plain": [
       "'Ship'"
      ]
     },
     "execution_count": 2,
     "metadata": {},
     "output_type": "execute_result"
    }
   ],
   "source": [
    "myList[2]"
   ]
  },
  {
   "cell_type": "markdown",
   "metadata": {},
   "source": [
    "Values in a list can be changed with this method:"
   ]
  },
  {
   "cell_type": "code",
   "execution_count": null,
   "metadata": {},
   "outputs": [],
   "source": [
    "myList[0]= \"Airplane\"\n",
    "\n",
    "print(myList)"
   ]
  },
  {
   "cell_type": "markdown",
   "metadata": {},
   "source": [
    "To add a value:"
   ]
  },
  {
   "cell_type": "code",
   "execution_count": 4,
   "metadata": {},
   "outputs": [
    {
     "name": "stdout",
     "output_type": "stream",
     "text": [
      "['Airplane', 'Bus', 'Ship', 3]\n"
     ]
    }
   ],
   "source": [
    "myList.append(3)\n",
    "\n",
    "print(myList)"
   ]
  },
  {
   "cell_type": "markdown",
   "metadata": {},
   "source": [
    "If we want to get specific parts from a list, like a sublist, it’s called **list slicing**:"
   ]
  },
  {
   "cell_type": "code",
   "execution_count": 7,
   "metadata": {},
   "outputs": [
    {
     "data": {
      "text/plain": [
       "['Ship', 'Airplane']"
      ]
     },
     "execution_count": 7,
     "metadata": {},
     "output_type": "execute_result"
    }
   ],
   "source": [
    "myList = [ \"Car\", \"Bus\", \"Ship\", \"Airplane\", \"Tube\", \"Train\"]\n",
    "myList[2:4]"
   ]
  },
  {
   "cell_type": "markdown",
   "metadata": {},
   "source": [
    "Both are the same, you count from the beginning:"
   ]
  },
  {
   "cell_type": "code",
   "execution_count": null,
   "metadata": {},
   "outputs": [],
   "source": [
    "print(myList[:2])\n",
    "print(myList[0:2])"
   ]
  },
  {
   "cell_type": "markdown",
   "metadata": {},
   "source": [
    "You can also count backwards:"
   ]
  },
  {
   "cell_type": "code",
   "execution_count": null,
   "metadata": {},
   "outputs": [],
   "source": [
    "print(myList[-1])\n",
    "\n",
    "print(myList[-2])"
   ]
  },
  {
   "cell_type": "markdown",
   "metadata": {},
   "source": [
    "You can remove elements:"
   ]
  },
  {
   "cell_type": "code",
   "execution_count": 10,
   "metadata": {},
   "outputs": [
    {
     "name": "stdout",
     "output_type": "stream",
     "text": [
      "['Car', 'Bus', 'Tube', 'Train']\n"
     ]
    }
   ],
   "source": [
    "del myList[2]\n",
    "\n",
    "print(myList)"
   ]
  },
  {
   "cell_type": "markdown",
   "metadata": {},
   "source": [
    "And list can have many dimensions, like an array of RGB colors:"
   ]
  },
  {
   "cell_type": "code",
   "execution_count": null,
   "metadata": {},
   "outputs": [],
   "source": [
    "image = [[230,10,40],[23,78,67],[56,78,123]]\n",
    "print(image[1])\n",
    "print(image[1][2])"
   ]
  },
  {
   "cell_type": "markdown",
   "metadata": {},
   "source": [
    "You can join two lists:"
   ]
  },
  {
   "cell_type": "code",
   "execution_count": null,
   "metadata": {},
   "outputs": [],
   "source": [
    "newList = myList + image\n",
    "\n",
    "print(newList)"
   ]
  },
  {
   "cell_type": "markdown",
   "metadata": {},
   "source": [
    "You can also zip lists like this:"
   ]
  },
  {
   "cell_type": "code",
   "execution_count": 16,
   "metadata": {},
   "outputs": [
    {
     "name": "stdout",
     "output_type": "stream",
     "text": [
      "('Car', [230, 10, 40])\n",
      "('Bus', [23, 78, 67])\n",
      "('Tube', [56, 78, 123])\n"
     ]
    }
   ],
   "source": [
    "zipped = zip(myList, image)\n",
    "\n",
    "for i in zipped:\n",
    "    print(i)"
   ]
  },
  {
   "cell_type": "markdown",
   "metadata": {},
   "source": [
    "Here we have “zipped” two lists in pairs. This might be of interest when you want to combine x and y values of a point. "
   ]
  },
  {
   "cell_type": "markdown",
   "metadata": {},
   "source": [
    "### Tuples\n",
    "\n",
    "Tuples are the same as lists, but they are immutable. Like strings, they can not be changed. A tuple can be like:\n",
    "\n",
    "``` python\n",
    "myTuple = (2,5,3,6)\n",
    "```\n",
    "I rarely use them and they an easily converted into a list like that:\n",
    "\n",
    "``` python\n",
    "list(myTuple)\n",
    "```"
   ]
  },
  {
   "cell_type": "markdown",
   "metadata": {},
   "source": [
    "### Dictionaries\n",
    "\n",
    "Python knows a data type that works on a `key : value` basis. It’s called Dictionary and looks like: "
   ]
  },
  {
   "cell_type": "code",
   "execution_count": null,
   "metadata": {},
   "outputs": [],
   "source": [
    "dict = {\n",
    "  \"brand\": \"Ford\",\n",
    "  \"model\": \"Mustang\",\n",
    "  \"year\": 1980\n",
    "}\n",
    "\n",
    "print (dict)"
   ]
  },
  {
   "cell_type": "markdown",
   "metadata": {},
   "source": [
    "![Languages](images/mustang.png)\n",
    "\n",
    "You can access the values like so:"
   ]
  },
  {
   "cell_type": "code",
   "execution_count": null,
   "metadata": {},
   "outputs": [],
   "source": [
    "print(dict[\"brand\"])"
   ]
  },
  {
   "cell_type": "markdown",
   "metadata": {},
   "source": [
    "Changing values goes like this:"
   ]
  },
  {
   "cell_type": "code",
   "execution_count": null,
   "metadata": {},
   "outputs": [],
   "source": [
    "dict[\"year\"] = 1965\n",
    "\n",
    "print(dict)"
   ]
  },
  {
   "cell_type": "markdown",
   "metadata": {},
   "source": [
    "Dictionaries do have these rules:\n",
    "-\tThey don’t have an order. This is unlike lists where values stay in their place\n",
    "-\tKey’s can’t be duplicated. In the example above, an entry with two ‘brands’ is not allowed. \n",
    "-\tDictionaries can change, pairs can be changed, removed or added\n"
   ]
  },
  {
   "cell_type": "markdown",
   "metadata": {},
   "source": [
    "***Typical methods***"
   ]
  },
  {
   "cell_type": "code",
   "execution_count": null,
   "metadata": {},
   "outputs": [],
   "source": [
    "# Get the value of a key\n",
    "x = dict[\"model\"]\n",
    "\n",
    "# or\n",
    "x = dict.get(\"model\")\n",
    "\n",
    "# Get all the keys of a dictionary\n",
    "x = dict.keys()\n",
    "\n",
    "#This gets all the values as a list\n",
    "x = dict.values()\n",
    "\n",
    "#Here you get the pairs in a list as tuple items\n",
    "x = dict.items()\n",
    "\n",
    "#You can check if a key exists in a dictionary\n",
    "if \"model\" in dict:\n",
    "    print(\"Yes, 'model' is one of the keys in the dict dictionary\")\n",
    "\n",
    "# Add items \n",
    "dict[\"color\"] = \"red\"\n",
    "\n",
    "# If you are not sure whether the key already exists or not, you can update the dictionary\n",
    "\n",
    "dict.update({\"year\": 2020})\n",
    "dict.update({\"owner\": \"john\"})\n",
    "\n",
    "#Or you remove items\n",
    "\n",
    "dict.pop(\"model\")"
   ]
  },
  {
   "cell_type": "markdown",
   "metadata": {},
   "source": [
    "And here an overview of all commands:\n",
    "\n",
    "| Command    | Description |\n",
    "| -------- | ------- |\n",
    "| **clear()**\t\t     | Removes all the elements from the dictionary |\n",
    "|**copy()**\t\t     |Returns a copy of the dictionary|\n",
    "|**fromkeys()**\t     |Returns a dictionary with the specified keys and value|\n",
    "| **get()**\t\t      |   Returns the value of the specified key|\n",
    "|**items()**\t\t  |   Returns a list containing a tuple for each key value pair|\n",
    "|**keys()**\t\t    | Returns a list containing the dictionary's keys|\n",
    "| **pop()**\t\t      |   Removes the element with the specified key|\n",
    "| **popitem()**\t      |   Removes the last inserted key-value pair|\n",
    "| **setdefault()**\t  |   Returns the value of the specified key. If key does not exist: insert the key|\n",
    "| **update()**\t      |   Updates the dictionary with the specified key-value pairs|\n",
    "| **values()**\t      |   Returns a list of all the values in the dictionary|\n",
    "\n"
   ]
  },
  {
   "cell_type": "markdown",
   "metadata": {},
   "source": [
    "## Reading and writing files\n",
    "\n",
    "Reading and writing files is quite simple. You always create an object on which you apple commands to. Like “open”, “read” or “write” are commands onto the file object. \n",
    "\n",
    "### Open Files and file paths\n",
    "\n",
    "Python needs to know where the file is or where to save it. *Absolute file paths* have the full path:\n",
    "\n",
    "`C:\\Users\\vince\\AppData\\Local\\Programs\\Python\\Python38`\n",
    "\n",
    "Relative Paths indicates folders in relation to the current directory. In this case, the exact location doesn’t really matter. The current directory is the folder where the python file is saved. If you place a file directly into the work directory, you can simply open it like this and without any extra path information.\n",
    "\n",
    "`file = open(\"Text.txt\", \"r\")`\n",
    "\n",
    "In case it’s a subfolder, you can define the location like:\n",
    "\n",
    "`file = open(\".\\\\folder\\\\demofile.txt\", \"r\")`\n",
    "\n",
    "\n",
    "The parameter at the end indicates:\n",
    "\n",
    "```\n",
    "\"r\" - Read - Default value. Opens a file for reading, error if the file does not exist\n",
    "\"a\" - Append - Opens a file for appending, creates the file if it does not exist\n",
    "\"w\" - Write - Opens a file for writing, creates the file if it does not exist\n",
    "\"x\" - Create - Creates the specified file, returns an error if the file exists\n",
    "```\n",
    "\n",
    "### Read/write files\n",
    "\n",
    "Once you have the file open, you will need to tell python what to do with the file. In the case of the text or csv file you can read the entire file or you can read the file by *line*:"
   ]
  },
  {
   "cell_type": "code",
   "execution_count": null,
   "metadata": {},
   "outputs": [],
   "source": [
    "filepath = r\"01_Python 101\\csv\\data.csv\"\n",
    "file = open(filepath, \"r\")\n",
    "lines = file.readlines()\n",
    "for line in lines:\n",
    "    print (line)"
   ]
  },
  {
   "cell_type": "markdown",
   "metadata": {},
   "source": [
    "Read the entire text file without line breaks:"
   ]
  },
  {
   "cell_type": "code",
   "execution_count": null,
   "metadata": {},
   "outputs": [],
   "source": [
    "lines = file.read()"
   ]
  },
  {
   "cell_type": "markdown",
   "metadata": {},
   "source": [
    "In this case, python will let us append a value to the end of the file. This is not unsimilar to the print () command, jus that you print to a file. "
   ]
  },
  {
   "cell_type": "code",
   "execution_count": null,
   "metadata": {},
   "outputs": [],
   "source": [
    "baconFile = open('bacon.txt', 'w')\n",
    "baconFile.write('Hello world!\\n')\n",
    "baconFile.close()"
   ]
  },
  {
   "cell_type": "code",
   "execution_count": null,
   "metadata": {},
   "outputs": [],
   "source": [
    "baconFile = open('bacon.txt', 'a')\n",
    "baconFile.write('Bacon is not a vegetable.')\n",
    "baconFile.close()"
   ]
  },
  {
   "cell_type": "code",
   "execution_count": null,
   "metadata": {},
   "outputs": [],
   "source": [
    "baconFile = open('bacon.txt')\n",
    "content = baconFile.read()\n",
    "baconFile.close()\n",
    "print(content)"
   ]
  },
  {
   "cell_type": "markdown",
   "metadata": {},
   "source": [
    "After we have done that, we have to *close* the file. The above method is long and typically, you would write a for `with` statement. This handles the file managment automatically. "
   ]
  },
  {
   "cell_type": "code",
   "execution_count": null,
   "metadata": {},
   "outputs": [],
   "source": [
    "with open(filepath, 'r') as file:\n",
    "    lines = file.readlines()\n",
    "    for line in lines:\n",
    "        print(line)"
   ]
  },
  {
   "cell_type": "markdown",
   "metadata": {},
   "source": [
    "The advantage of this one is that you save one line and that you make sure that the file is being closed. "
   ]
  },
  {
   "cell_type": "markdown",
   "metadata": {},
   "source": [
    "## Modules and the Python Standard library\n",
    "Python comes with a set of pre-installed libraries that extend the functionality, they are called the ***standard libraries***. The documentation is online:\n",
    "\n",
    "https://docs.python.org/3/library/\n",
    "\n",
    "If you want to see what is currently installed, type "
   ]
  },
  {
   "cell_type": "code",
   "execution_count": null,
   "metadata": {},
   "outputs": [],
   "source": [
    "help(\"modules\")"
   ]
  },
  {
   "cell_type": "markdown",
   "metadata": {},
   "source": [
    "And if you want to see more details about a specific module, you can type: "
   ]
  },
  {
   "cell_type": "code",
   "execution_count": 38,
   "metadata": {},
   "outputs": [
    {
     "name": "stdout",
     "output_type": "stream",
     "text": [
      "Help on built-in module math:\n",
      "\n",
      "NAME\n",
      "    math\n",
      "\n",
      "DESCRIPTION\n",
      "    This module provides access to the mathematical functions\n",
      "    defined by the C standard.\n",
      "\n",
      "FUNCTIONS\n",
      "    acos(x, /)\n",
      "        Return the arc cosine (measured in radians) of x.\n",
      "\n",
      "        The result is between 0 and pi.\n",
      "\n",
      "    acosh(x, /)\n",
      "        Return the inverse hyperbolic cosine of x.\n",
      "\n",
      "    asin(x, /)\n",
      "        Return the arc sine (measured in radians) of x.\n",
      "\n",
      "        The result is between -pi/2 and pi/2.\n",
      "\n",
      "    asinh(x, /)\n",
      "        Return the inverse hyperbolic sine of x.\n",
      "\n",
      "    atan(x, /)\n",
      "        Return the arc tangent (measured in radians) of x.\n",
      "\n",
      "        The result is between -pi/2 and pi/2.\n",
      "\n",
      "    atan2(y, x, /)\n",
      "        Return the arc tangent (measured in radians) of y/x.\n",
      "\n",
      "        Unlike atan(y/x), the signs of both x and y are considered.\n",
      "\n",
      "    atanh(x, /)\n",
      "        Return the inverse hyperbolic tangent of x.\n",
      "\n",
      "    cbrt(x, /)\n",
      "        Return the cube root of x.\n",
      "\n",
      "    ceil(x, /)\n",
      "        Return the ceiling of x as an Integral.\n",
      "\n",
      "        This is the smallest integer >= x.\n",
      "\n",
      "    comb(n, k, /)\n",
      "        Number of ways to choose k items from n items without repetition and without order.\n",
      "\n",
      "        Evaluates to n! / (k! * (n - k)!) when k <= n and evaluates\n",
      "        to zero when k > n.\n",
      "\n",
      "        Also called the binomial coefficient because it is equivalent\n",
      "        to the coefficient of k-th term in polynomial expansion of the\n",
      "        expression (1 + x)**n.\n",
      "\n",
      "        Raises TypeError if either of the arguments are not integers.\n",
      "        Raises ValueError if either of the arguments are negative.\n",
      "\n",
      "    copysign(x, y, /)\n",
      "        Return a float with the magnitude (absolute value) of x but the sign of y.\n",
      "\n",
      "        On platforms that support signed zeros, copysign(1.0, -0.0)\n",
      "        returns -1.0.\n",
      "\n",
      "    cos(x, /)\n",
      "        Return the cosine of x (measured in radians).\n",
      "\n",
      "    cosh(x, /)\n",
      "        Return the hyperbolic cosine of x.\n",
      "\n",
      "    degrees(x, /)\n",
      "        Convert angle x from radians to degrees.\n",
      "\n",
      "    dist(p, q, /)\n",
      "        Return the Euclidean distance between two points p and q.\n",
      "\n",
      "        The points should be specified as sequences (or iterables) of\n",
      "        coordinates.  Both inputs must have the same dimension.\n",
      "\n",
      "        Roughly equivalent to:\n",
      "            sqrt(sum((px - qx) ** 2.0 for px, qx in zip(p, q)))\n",
      "\n",
      "    erf(x, /)\n",
      "        Error function at x.\n",
      "\n",
      "    erfc(x, /)\n",
      "        Complementary error function at x.\n",
      "\n",
      "    exp(x, /)\n",
      "        Return e raised to the power of x.\n",
      "\n",
      "    exp2(x, /)\n",
      "        Return 2 raised to the power of x.\n",
      "\n",
      "    expm1(x, /)\n",
      "        Return exp(x)-1.\n",
      "\n",
      "        This function avoids the loss of precision involved in the direct evaluation of exp(x)-1 for small x.\n",
      "\n",
      "    fabs(x, /)\n",
      "        Return the absolute value of the float x.\n",
      "\n",
      "    factorial(n, /)\n",
      "        Find n!.\n",
      "\n",
      "        Raise a ValueError if x is negative or non-integral.\n",
      "\n",
      "    floor(x, /)\n",
      "        Return the floor of x as an Integral.\n",
      "\n",
      "        This is the largest integer <= x.\n",
      "\n",
      "    fmod(x, y, /)\n",
      "        Return fmod(x, y), according to platform C.\n",
      "\n",
      "        x % y may differ.\n",
      "\n",
      "    frexp(x, /)\n",
      "        Return the mantissa and exponent of x, as pair (m, e).\n",
      "\n",
      "        m is a float and e is an int, such that x = m * 2.**e.\n",
      "        If x is 0, m and e are both 0.  Else 0.5 <= abs(m) < 1.0.\n",
      "\n",
      "    fsum(seq, /)\n",
      "        Return an accurate floating point sum of values in the iterable seq.\n",
      "\n",
      "        Assumes IEEE-754 floating point arithmetic.\n",
      "\n",
      "    gamma(x, /)\n",
      "        Gamma function at x.\n",
      "\n",
      "    gcd(*integers)\n",
      "        Greatest Common Divisor.\n",
      "\n",
      "    hypot(...)\n",
      "        hypot(*coordinates) -> value\n",
      "\n",
      "        Multidimensional Euclidean distance from the origin to a point.\n",
      "\n",
      "        Roughly equivalent to:\n",
      "            sqrt(sum(x**2 for x in coordinates))\n",
      "\n",
      "        For a two dimensional point (x, y), gives the hypotenuse\n",
      "        using the Pythagorean theorem:  sqrt(x*x + y*y).\n",
      "\n",
      "        For example, the hypotenuse of a 3/4/5 right triangle is:\n",
      "\n",
      "            >>> hypot(3.0, 4.0)\n",
      "            5.0\n",
      "\n",
      "    isclose(a, b, *, rel_tol=1e-09, abs_tol=0.0)\n",
      "        Determine whether two floating point numbers are close in value.\n",
      "\n",
      "          rel_tol\n",
      "            maximum difference for being considered \"close\", relative to the\n",
      "            magnitude of the input values\n",
      "          abs_tol\n",
      "            maximum difference for being considered \"close\", regardless of the\n",
      "            magnitude of the input values\n",
      "\n",
      "        Return True if a is close in value to b, and False otherwise.\n",
      "\n",
      "        For the values to be considered close, the difference between them\n",
      "        must be smaller than at least one of the tolerances.\n",
      "\n",
      "        -inf, inf and NaN behave similarly to the IEEE 754 Standard.  That\n",
      "        is, NaN is not close to anything, even itself.  inf and -inf are\n",
      "        only close to themselves.\n",
      "\n",
      "    isfinite(x, /)\n",
      "        Return True if x is neither an infinity nor a NaN, and False otherwise.\n",
      "\n",
      "    isinf(x, /)\n",
      "        Return True if x is a positive or negative infinity, and False otherwise.\n",
      "\n",
      "    isnan(x, /)\n",
      "        Return True if x is a NaN (not a number), and False otherwise.\n",
      "\n",
      "    isqrt(n, /)\n",
      "        Return the integer part of the square root of the input.\n",
      "\n",
      "    lcm(*integers)\n",
      "        Least Common Multiple.\n",
      "\n",
      "    ldexp(x, i, /)\n",
      "        Return x * (2**i).\n",
      "\n",
      "        This is essentially the inverse of frexp().\n",
      "\n",
      "    lgamma(x, /)\n",
      "        Natural logarithm of absolute value of Gamma function at x.\n",
      "\n",
      "    log(...)\n",
      "        log(x, [base=math.e])\n",
      "        Return the logarithm of x to the given base.\n",
      "\n",
      "        If the base is not specified, returns the natural logarithm (base e) of x.\n",
      "\n",
      "    log10(x, /)\n",
      "        Return the base 10 logarithm of x.\n",
      "\n",
      "    log1p(x, /)\n",
      "        Return the natural logarithm of 1+x (base e).\n",
      "\n",
      "        The result is computed in a way which is accurate for x near zero.\n",
      "\n",
      "    log2(x, /)\n",
      "        Return the base 2 logarithm of x.\n",
      "\n",
      "    modf(x, /)\n",
      "        Return the fractional and integer parts of x.\n",
      "\n",
      "        Both results carry the sign of x and are floats.\n",
      "\n",
      "    nextafter(x, y, /, *, steps=None)\n",
      "        Return the floating-point value the given number of steps after x towards y.\n",
      "\n",
      "        If steps is not specified or is None, it defaults to 1.\n",
      "\n",
      "        Raises a TypeError, if x or y is not a double, or if steps is not an integer.\n",
      "        Raises ValueError if steps is negative.\n",
      "\n",
      "    perm(n, k=None, /)\n",
      "        Number of ways to choose k items from n items without repetition and with order.\n",
      "\n",
      "        Evaluates to n! / (n - k)! when k <= n and evaluates\n",
      "        to zero when k > n.\n",
      "\n",
      "        If k is not specified or is None, then k defaults to n\n",
      "        and the function returns n!.\n",
      "\n",
      "        Raises TypeError if either of the arguments are not integers.\n",
      "        Raises ValueError if either of the arguments are negative.\n",
      "\n",
      "    pow(x, y, /)\n",
      "        Return x**y (x to the power of y).\n",
      "\n",
      "    prod(iterable, /, *, start=1)\n",
      "        Calculate the product of all the elements in the input iterable.\n",
      "\n",
      "        The default start value for the product is 1.\n",
      "\n",
      "        When the iterable is empty, return the start value.  This function is\n",
      "        intended specifically for use with numeric values and may reject\n",
      "        non-numeric types.\n",
      "\n",
      "    radians(x, /)\n",
      "        Convert angle x from degrees to radians.\n",
      "\n",
      "    remainder(x, y, /)\n",
      "        Difference between x and the closest integer multiple of y.\n",
      "\n",
      "        Return x - n*y where n*y is the closest integer multiple of y.\n",
      "        In the case where x is exactly halfway between two multiples of\n",
      "        y, the nearest even value of n is used. The result is always exact.\n",
      "\n",
      "    sin(x, /)\n",
      "        Return the sine of x (measured in radians).\n",
      "\n",
      "    sinh(x, /)\n",
      "        Return the hyperbolic sine of x.\n",
      "\n",
      "    sqrt(x, /)\n",
      "        Return the square root of x.\n",
      "\n",
      "    sumprod(p, q, /)\n",
      "        Return the sum of products of values from two iterables p and q.\n",
      "\n",
      "        Roughly equivalent to:\n",
      "\n",
      "            sum(itertools.starmap(operator.mul, zip(p, q, strict=True)))\n",
      "\n",
      "        For float and mixed int/float inputs, the intermediate products\n",
      "        and sums are computed with extended precision.\n",
      "\n",
      "    tan(x, /)\n",
      "        Return the tangent of x (measured in radians).\n",
      "\n",
      "    tanh(x, /)\n",
      "        Return the hyperbolic tangent of x.\n",
      "\n",
      "    trunc(x, /)\n",
      "        Truncates the Real x to the nearest Integral toward 0.\n",
      "\n",
      "        Uses the __trunc__ magic method.\n",
      "\n",
      "    ulp(x, /)\n",
      "        Return the value of the least significant bit of the float x.\n",
      "\n",
      "DATA\n",
      "    e = 2.718281828459045\n",
      "    inf = inf\n",
      "    nan = nan\n",
      "    pi = 3.141592653589793\n",
      "    tau = 6.283185307179586\n",
      "\n",
      "FILE\n",
      "    (built-in)\n",
      "\n",
      "\n"
     ]
    }
   ],
   "source": [
    "help(\"math\")"
   ]
  },
  {
   "cell_type": "markdown",
   "metadata": {},
   "source": [
    "### Math Module\n",
    "\n",
    "Extended mathematical functions are not part of the python language, you will need to call a module of the standard library called “math”. \n"
   ]
  },
  {
   "cell_type": "code",
   "execution_count": 40,
   "metadata": {},
   "outputs": [
    {
     "name": "stdout",
     "output_type": "stream",
     "text": [
      "1.5707963267948966\n"
     ]
    }
   ],
   "source": [
    "import math as math\n",
    "x = math.radians(90)\n",
    "\n",
    "print(x)"
   ]
  },
  {
   "cell_type": "markdown",
   "metadata": {},
   "source": [
    "### Pip Install\n",
    "One of the most important modules is “pip install” - a library that lets you install third party libraries. Usually these libraries are saved in a central web base repository \n",
    "\n",
    "https://pypi.org/\n",
    "\n",
    "The installation is relatively simple. Windows open the command line and type in \n",
    "\n",
    "``` pip install [*package name*]```\n",
    "\n",
    "like\n",
    "\n",
    "``` pip install numpy```\n",
    "\n",
    "or \n",
    "\n",
    "``` pip install opencv-python```"
   ]
  },
  {
   "cell_type": "markdown",
   "metadata": {},
   "source": [
    "### The CSV module\n",
    "The CSV File Reading and Writing module offers some extra features to read and write csv files. As usual, the library will be imported with "
   ]
  },
  {
   "cell_type": "code",
   "execution_count": null,
   "metadata": {},
   "outputs": [],
   "source": [
    "import csv"
   ]
  },
  {
   "cell_type": "markdown",
   "metadata": {},
   "source": [
    "And typically you would open a file with"
   ]
  },
  {
   "cell_type": "code",
   "execution_count": null,
   "metadata": {},
   "outputs": [],
   "source": [
    "import csv\n",
    "\n",
    "filepath = r\"01_Python 101\\csv\\data.csv\"\n",
    "\n",
    "with open(filepath, newline='') as csvfile:\n",
    "\treader = csv.reader(csvfile,delimiter=',')\n",
    "\tfor row in reader:\n",
    "\t\tprint(row)"
   ]
  },
  {
   "cell_type": "markdown",
   "metadata": {},
   "source": [
    "Writing a file goes like:"
   ]
  },
  {
   "cell_type": "code",
   "execution_count": null,
   "metadata": {},
   "outputs": [],
   "source": [
    "with open('values.csv', mode='w') as file:\n",
    "    writer = csv.writer(file, delimiter=',')\n",
    "\n",
    "    writer.writerow([30, 50, 3.55])\n",
    "    writer.writerow([40, 80, 34.44])"
   ]
  },
  {
   "cell_type": "markdown",
   "metadata": {},
   "source": [
    "The example above gives you very little advantage above the conventional method, yet you might want to keep that in mind when you handle csv files and they need to have some format features that the usual command doesn’t have. \n",
    "\n",
    "### Time Module\n",
    "Time is notoriously difficult to calculate, the units are in 24 or 60, months and years have different length. And this is where the time module comes in. It lets you add and subtract days, months and hours. You can measure periods and format the date in many different ways. \n",
    "Traditionally, scripting languages split into times and dates. Python does that as well, but has introduced a data type that combines both, the datetime. This is handy because you just deal with one data format - yet you can always use the other datatypes if you need to do so.\n",
    "\n",
    "The display of today\n"
   ]
  },
  {
   "cell_type": "code",
   "execution_count": null,
   "metadata": {},
   "outputs": [],
   "source": [
    "import datetime\n",
    "x = datetime.datetime.now()\n",
    "print(x)"
   ]
  },
  {
   "cell_type": "markdown",
   "metadata": {},
   "source": [
    "The single elements of the date can be accessed like this:"
   ]
  },
  {
   "cell_type": "code",
   "execution_count": null,
   "metadata": {},
   "outputs": [],
   "source": [
    "print(x.year)\n",
    "print(x.day)\n",
    "print(x.second)"
   ]
  },
  {
   "cell_type": "markdown",
   "metadata": {},
   "source": [
    "And if you want to set a date:"
   ]
  },
  {
   "cell_type": "code",
   "execution_count": 48,
   "metadata": {},
   "outputs": [],
   "source": [
    "b = datetime.datetime(2020, 5, 17)"
   ]
  },
  {
   "cell_type": "markdown",
   "metadata": {},
   "source": [
    "And setting a date with hours, minutes, seconds and microseconds"
   ]
  },
  {
   "cell_type": "code",
   "execution_count": 50,
   "metadata": {},
   "outputs": [],
   "source": [
    "c = datetime.datetime(2017, 11, 28, 23, 55, 59, 342380)"
   ]
  },
  {
   "cell_type": "markdown",
   "metadata": {},
   "source": [
    "As explained before, the way of calculating time is very tricky. It becomes even more difficult when you take into account different time zones and calendar types ( like how to convert dates between islamic calendar, gregorian calendar and Chinese calendar?) To mitigate this, a new way of measuring time has been established for computers: the *epoch* that counts the time from midnight  January 1, 1970 onwards. It comes in formats like 1326244364. The conversion is as like: "
   ]
  },
  {
   "cell_type": "code",
   "execution_count": 51,
   "metadata": {},
   "outputs": [
    {
     "name": "stdout",
     "output_type": "stream",
     "text": [
      "Date = 2012-01-11\n"
     ]
    }
   ],
   "source": [
    "from datetime import date\n",
    "\n",
    "timestamp = date.fromtimestamp(1326244364)\n",
    "print(\"Date =\", timestamp)\n"
   ]
  },
  {
   "cell_type": "markdown",
   "metadata": {},
   "source": [
    "The output can be formatted in different ways:"
   ]
  },
  {
   "cell_type": "code",
   "execution_count": null,
   "metadata": {},
   "outputs": [],
   "source": [
    "from datetime import datetime\n",
    "now = datetime.now()\n",
    "b = now.strftime(\"%d/%m/%Y, %H:%M:%S\")\n",
    "# dd/mm/YY H:M:S format\n",
    "\n",
    "print(b)\n",
    "\n",
    "#Or just something like this if you want to get only one part of the date\n",
    "\n",
    "print(now.strftime(\"%B\"))"
   ]
  },
  {
   "cell_type": "markdown",
   "metadata": {},
   "source": [
    "Extra help: \n",
    "\n",
    "- https://www.w3schools.com/python/python_datetime.asp\n",
    "- https://docs.python.org/3/library/time.html#module-time\n"
   ]
  },
  {
   "cell_type": "markdown",
   "metadata": {},
   "source": [
    "## The help module\n",
    "\n",
    "Python ships with an inbuilt help command."
   ]
  },
  {
   "cell_type": "code",
   "execution_count": null,
   "metadata": {},
   "outputs": [],
   "source": [
    "help (print)\n"
   ]
  },
  {
   "cell_type": "markdown",
   "metadata": {},
   "source": [
    "More examples go ilke:"
   ]
  },
  {
   "cell_type": "code",
   "execution_count": null,
   "metadata": {},
   "outputs": [],
   "source": [
    "help(open)"
   ]
  },
  {
   "cell_type": "markdown",
   "metadata": {},
   "source": [
    "Or if it’s a module you are not familiar with, you can do this:"
   ]
  },
  {
   "cell_type": "code",
   "execution_count": null,
   "metadata": {},
   "outputs": [],
   "source": [
    "import math as math\n",
    "dir(math)\n",
    "\n",
    "help(math.sin)"
   ]
  },
  {
   "cell_type": "markdown",
   "metadata": {},
   "source": [
    "The example above has a few steps. First you import the module, then with dir() you show the continent of that directory and with help() you get more info regarding the command. "
   ]
  },
  {
   "cell_type": "markdown",
   "metadata": {},
   "source": [
    "---\n",
    "\n",
    "## Implementations\n",
    "\n",
    "After all thes exciting news, a word of warning: \n",
    "\n",
    "When people speak of Python, they often mean not just the language but also the *CPython* implementation. Python is actually a specification for a language that can be implemented in many different ways. The different implementations may be for compatibility with other libraries or frameworks such as .NET. \n",
    "\n",
    "Pure Python libraries should work regardless of your Python implementation. Rhino 7 works with IronPython and that means that libraries built on C (like NumPy) won’t work. This section provides a quick rundown on the most popular implementations:\n",
    "\n",
    "- CPython : CPython is the reference implementation of Python, written in C. It compiles Python code to intermediate bytecode which is then interpreted by a virtual machine. CPython provides the highest level of compatibility with Python packages and C extension modules.\n",
    "- Jython: Jython is a Python interpreter implementation that compiles Python code to Java bytecode which is then executed by the JVM. If you use processing in python, it runs on jython. \n",
    "- IronPython: IronPython is the python that rhino uses. It comes in python 2.7. Rhino 8 however seems to run CPython code\n",
    "- MicroPython: MicoPython is for microcontrollers, similar to arduino. \n",
    "\n",
    "This means that not all the third party libraries that work under  CPython also work under the IronPython implementation of Rhino 7. So you can not import Numpy and Scipy directly into grasshopper, you will need to take detours (https://wiki.mcneel.com/grasshopper/cpython)\n"
   ]
  }
 ],
 "metadata": {
  "kernelspec": {
   "display_name": "Python 3",
   "language": "python",
   "name": "python3"
  },
  "language_info": {
   "codemirror_mode": {
    "name": "ipython",
    "version": 3
   },
   "file_extension": ".py",
   "mimetype": "text/x-python",
   "name": "python",
   "nbconvert_exporter": "python",
   "pygments_lexer": "ipython3",
   "version": "3.12.4"
  }
 },
 "nbformat": 4,
 "nbformat_minor": 2
}
